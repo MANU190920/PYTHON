{
 "cells": [
  {
   "cell_type": "code",
   "execution_count": 52,
   "id": "f9ace649-4999-468d-92d2-8fb6d8461da2",
   "metadata": {},
   "outputs": [],
   "source": [
    "#1\n",
    "class Course:\n",
    "    def __init__(self, course_code, course_name, credit_hours):\n",
    "        self.course_code = course_code\n",
    "        self.course_name = course_name\n",
    "        self.credit_hours = credit_hours\n",
    "\n",
    "    def display_info(self):\n",
    "        return (f\"Course Code: {self.course_code}, \"\n",
    "                f\"Course Name: {self.course_name}, \"\n",
    "                f\"Credit Hours: {self.credit_hours}\")"
   ]
  },
  {
   "cell_type": "code",
   "execution_count": 54,
   "id": "bfd9ddb6-ceb2-4298-bdc5-e1e9adabc454",
   "metadata": {},
   "outputs": [],
   "source": [
    "class CoreCourse(Course):\n",
    "    def __init__(self, course_code, course_name, credit_hours, required_for_major):\n",
    "        super().__init__(course_code, course_name, credit_hours)\n",
    "        self.required_for_major = required_for_major\n",
    "\n",
    "    def display_info(self):\n",
    "        base_info = super().display_info()\n",
    "        return f\"{base_info}, Required for Major: {self.required_for_major}\"\n"
   ]
  },
  {
   "cell_type": "code",
   "execution_count": 56,
   "id": "e3fe5e85-b454-4ddb-9fa0-d283724ecc28",
   "metadata": {},
   "outputs": [],
   "source": [
    "class ElectiveCourse(Course):\n",
    "    def __init__(self, course_code, course_name, credit_hours, elective_type):\n",
    "        super().__init__(course_code, course_name, credit_hours)\n",
    "        self.elective_type = elective_type\n",
    "\n",
    "    def display_info(self):\n",
    "        base_info = super().display_info()\n",
    "        return f\"{base_info}, Elective Type: {self.elective_type}\""
   ]
  },
  {
   "cell_type": "code",
   "execution_count": 60,
   "id": "235841be-dc9c-483f-883e-51d816a919e0",
   "metadata": {},
   "outputs": [
    {
     "name": "stdout",
     "output_type": "stream",
     "text": [
      "Course Code: CS101, Course Name: Introduction to Computer Science, Credit Hours: 3, Required for Major: True\n",
      "Course Code: HIST201, Course Name: World History, Credit Hours: 2, Elective Type: liberal arts\n"
     ]
    }
   ],
   "source": [
    "if __name__ == \"__main__\":\n",
    "    core_course = CoreCourse(\"CS101\", \"Introduction to Computer Science\", 3, True)\n",
    "    elective_course = ElectiveCourse(\"HIST201\", \"World History\", 2, \"liberal arts\")\n",
    "    print(core_course.display_info())\n",
    "    print(elective_course.display_info())"
   ]
  },
  {
   "cell_type": "code",
   "execution_count": 8,
   "id": "48fc2230-4d73-4017-babb-9469455a4e1e",
   "metadata": {},
   "outputs": [],
   "source": [
    "#2\n",
    "class Employee:\n",
    "    def __init__(self, name, salary):\n",
    "        self.name = name\n",
    "        self.salary = salary\n",
    "\n",
    "    def get_name(self):\n",
    "        return self.name\n",
    "\n",
    "    def get_salary(self):\n",
    "        return self.salary"
   ]
  },
  {
   "cell_type": "code",
   "execution_count": 12,
   "id": "fa1365b9-56f8-4ffe-8331-a135f407d231",
   "metadata": {},
   "outputs": [
    {
     "name": "stdout",
     "output_type": "stream",
     "text": [
      "Employee Name: Manu Emmanueal\n",
      "Employee Salary: 50000\n"
     ]
    }
   ],
   "source": [
    "emp = Employee(\"Manu Emmanueal\", 50000)\n",
    "\n",
    "# Display name and salary\n",
    "print(\"Employee Name:\", emp.get_name())\n",
    "print(\"Employee Salary:\", emp.get_salary())"
   ]
  },
  {
   "cell_type": "code",
   "execution_count": null,
   "id": "f3ed2ddb-db9c-498c-a32f-400247c49a93",
   "metadata": {},
   "outputs": [],
   "source": []
  }
 ],
 "metadata": {
  "kernelspec": {
   "display_name": "Python [conda env:base] *",
   "language": "python",
   "name": "conda-base-py"
  },
  "language_info": {
   "codemirror_mode": {
    "name": "ipython",
    "version": 3
   },
   "file_extension": ".py",
   "mimetype": "text/x-python",
   "name": "python",
   "nbconvert_exporter": "python",
   "pygments_lexer": "ipython3",
   "version": "3.11.5"
  }
 },
 "nbformat": 4,
 "nbformat_minor": 5
}

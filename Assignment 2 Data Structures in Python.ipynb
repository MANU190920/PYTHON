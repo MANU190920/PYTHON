{
 "cells": [
  {
   "cell_type": "markdown",
   "id": "31c6f51d",
   "metadata": {},
   "source": [
    "## List Exercise"
   ]
  },
  {
   "cell_type": "code",
   "execution_count": 4,
   "id": "89425e43",
   "metadata": {},
   "outputs": [
    {
     "name": "stdout",
     "output_type": "stream",
     "text": [
      "List of 5 random numbers: [80, 18, 27, 62, 2]\n"
     ]
    }
   ],
   "source": [
    "#\n",
    "#1\n",
    "import random\n",
    "random_list =[random.randint(1,100) for _ in range(5)]\n",
    "print(\"List of 5 random numbers:\", random_list)"
   ]
  },
  {
   "cell_type": "code",
   "execution_count": 5,
   "id": "6a475794",
   "metadata": {},
   "outputs": [
    {
     "name": "stdout",
     "output_type": "stream",
     "text": [
      "updated list with 3 new values: [80, 18, 27, 62, 2, 199, 199, 106]\n"
     ]
    }
   ],
   "source": [
    "#2 \n",
    "new_values = [random.randint(101,200), random.randint(101,200), random.randint(100,200)]\n",
    "random_list.extend(new_values)\n",
    "print(\"updated list with 3 new values:\",random_list)"
   ]
  },
  {
   "cell_type": "code",
   "execution_count": 7,
   "id": "2b135aed",
   "metadata": {},
   "outputs": [
    {
     "name": "stdout",
     "output_type": "stream",
     "text": [
      "each element in the list:\n",
      "80\n",
      "18\n",
      "27\n",
      "62\n",
      "2\n",
      "199\n",
      "199\n",
      "106\n"
     ]
    }
   ],
   "source": [
    "#3\n",
    "print(\"each element in the list:\")\n",
    "for element in random_list:\n",
    "    print(element)"
   ]
  },
  {
   "cell_type": "markdown",
   "id": "84234ca7",
   "metadata": {},
   "source": [
    "## Dictionary Exercise"
   ]
  },
  {
   "cell_type": "code",
   "execution_count": 10,
   "id": "826590f1",
   "metadata": {},
   "outputs": [
    {
     "name": "stdout",
     "output_type": "stream",
     "text": [
      "Dictionary: {'name': 'John', 'age': 25, 'address': 'New York'}\n"
     ]
    }
   ],
   "source": [
    "#1\n",
    "person_dict = {'name': 'John', 'age': 25, 'address': 'New York'}\n",
    "print(\"Dictionary:\", person_dict)"
   ]
  },
  {
   "cell_type": "code",
   "execution_count": 11,
   "id": "aecb3693",
   "metadata": {},
   "outputs": [
    {
     "name": "stdout",
     "output_type": "stream",
     "text": [
      "Updated dictionary with new key-value pair: {'name': 'John', 'age': 25, 'address': 'New York', 'phone': '1234567890'}\n"
     ]
    }
   ],
   "source": [
    "person_dict['phone'] = '1234567890'\n",
    "print(\"Updated dictionary with new key-value pair:\", person_dict)"
   ]
  },
  {
   "cell_type": "markdown",
   "id": "ad67b586",
   "metadata": {},
   "source": [
    "## Set Exercise"
   ]
  },
  {
   "cell_type": "code",
   "execution_count": 12,
   "id": "d704048a",
   "metadata": {},
   "outputs": [
    {
     "name": "stdout",
     "output_type": "stream",
     "text": [
      "Set: {1, 2, 3, 4, 5}\n"
     ]
    }
   ],
   "source": [
    "#1\n",
    "number_set = {1, 2, 3, 4, 5}\n",
    "print(\"Set:\", number_set)"
   ]
  },
  {
   "cell_type": "code",
   "execution_count": 13,
   "id": "da629ae2",
   "metadata": {},
   "outputs": [
    {
     "name": "stdout",
     "output_type": "stream",
     "text": [
      "Set after adding 6: {1, 2, 3, 4, 5, 6}\n"
     ]
    }
   ],
   "source": [
    "#2\n",
    "number_set.add(6)\n",
    "print(\"Set after adding 6:\", number_set)"
   ]
  },
  {
   "cell_type": "code",
   "execution_count": 15,
   "id": "b5d00004",
   "metadata": {},
   "outputs": [
    {
     "name": "stdout",
     "output_type": "stream",
     "text": [
      "Set after removing 3: {1, 2, 4, 5, 6}\n"
     ]
    }
   ],
   "source": [
    "#3\n",
    "number_set.remove(3)\n",
    "print(\"Set after removing 3:\", number_set)"
   ]
  },
  {
   "cell_type": "markdown",
   "id": "17cbd22c",
   "metadata": {},
   "source": [
    "## Tuple Exercise"
   ]
  },
  {
   "cell_type": "code",
   "execution_count": 16,
   "id": "82a0d4ad",
   "metadata": {},
   "outputs": [
    {
     "name": "stdout",
     "output_type": "stream",
     "text": [
      "Tuple: (1, 2, 3, 4)\n"
     ]
    }
   ],
   "source": [
    "#1\n",
    "number_tuple = (1, 2, 3, 4)\n",
    "print(\"Tuple:\", number_tuple)"
   ]
  },
  {
   "cell_type": "code",
   "execution_count": 17,
   "id": "7ecd737c",
   "metadata": {},
   "outputs": [
    {
     "name": "stdout",
     "output_type": "stream",
     "text": [
      "Length of the tuple: 4\n"
     ]
    }
   ],
   "source": [
    "tuple_length = len(number_tuple)\n",
    "print(\"Length of the tuple:\", tuple_length)"
   ]
  },
  {
   "cell_type": "code",
   "execution_count": null,
   "id": "d64541ec",
   "metadata": {},
   "outputs": [],
   "source": []
  }
 ],
 "metadata": {
  "kernelspec": {
   "display_name": "Python 3 (ipykernel)",
   "language": "python",
   "name": "python3"
  },
  "language_info": {
   "codemirror_mode": {
    "name": "ipython",
    "version": 3
   },
   "file_extension": ".py",
   "mimetype": "text/x-python",
   "name": "python",
   "nbconvert_exporter": "python",
   "pygments_lexer": "ipython3",
   "version": "3.11.5"
  }
 },
 "nbformat": 4,
 "nbformat_minor": 5
}

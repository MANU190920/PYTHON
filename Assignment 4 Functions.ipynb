{
 "cells": [
  {
   "cell_type": "code",
   "execution_count": 2,
   "id": "a192636c-d739-405b-8457-e9d939c0849e",
   "metadata": {},
   "outputs": [
    {
     "name": "stdout",
     "output_type": "stream",
     "text": [
      "Length of my list is: 5\n"
     ]
    }
   ],
   "source": [
    "#1 Using len function\n",
    "# The len() function gives us the total number of items in an object\n",
    "\n",
    "list = [11,22,33,44,55]\n",
    "print('Length of my list is:',len(list))"
   ]
  },
  {
   "cell_type": "code",
   "execution_count": 8,
   "id": "3242e384-bdb9-4ef5-b61b-348ba5f877e8",
   "metadata": {},
   "outputs": [],
   "source": [
    "#2 Function  to greet a person\n",
    "def greet(name):\n",
    "    print(f\"Hello, {name}!\")"
   ]
  },
  {
   "cell_type": "code",
   "execution_count": 12,
   "id": "4e654f9e-b556-410e-8ca2-034fc898e06f",
   "metadata": {},
   "outputs": [
    {
     "name": "stdout",
     "output_type": "stream",
     "text": [
      "Hello, Manu!\n"
     ]
    }
   ],
   "source": [
    "greet('Manu')"
   ]
  },
  {
   "cell_type": "code",
   "execution_count": 48,
   "id": "64e86574-5206-4412-ae36-cf1d9fb50ce4",
   "metadata": {},
   "outputs": [],
   "source": [
    "#3 Function to find the maximum value in a list without using max()\n",
    "def findmax(numbers):\n",
    "    if not numbers:\n",
    "        return None\n",
    "    max_value = numbers[0]  \n",
    "    for num in numbers[1:]:  \n",
    "        if num > max_value:\n",
    "            max_value = num\n",
    "    return max_value"
   ]
  },
  {
   "cell_type": "code",
   "execution_count": 52,
   "id": "404a5f83-0fad-4245-9b45-f4302fff24a4",
   "metadata": {},
   "outputs": [
    {
     "name": "stdout",
     "output_type": "stream",
     "text": [
      "Maximum Value: 92\n"
     ]
    }
   ],
   "source": [
    "n1 = [4, 7, 11, 29, 92, 55]\n",
    "print('Maximum Value:',findmax(n1))"
   ]
  },
  {
   "cell_type": "code",
   "execution_count": 56,
   "id": "12071fb2-bfc6-4051-be8e-d234bea19db2",
   "metadata": {},
   "outputs": [],
   "source": [
    "#4 Local and Global variables\n",
    "# Global variables are declared outside functions and accessible everywhere in the script.\n",
    "# Local variables are declared inside a function and can only be accessed within that function.\n",
    "\n",
    "global_var = \"Am Global\"\n",
    "def example():\n",
    "    global_var = \"Am Local\"\n",
    "    print('Inside Function:', global_var)"
   ]
  },
  {
   "cell_type": "code",
   "execution_count": 60,
   "id": "7a60b364-5f29-44b5-a3a5-d7f2752f3b91",
   "metadata": {},
   "outputs": [
    {
     "name": "stdout",
     "output_type": "stream",
     "text": [
      "Inside Function: Am Local\n",
      "Outside function: Am Global\n"
     ]
    }
   ],
   "source": [
    "example()\n",
    "print(\"Outside function:\", global_var)"
   ]
  },
  {
   "cell_type": "code",
   "execution_count": 66,
   "id": "b79df5b4-f141-426f-9485-dc578cab3bda",
   "metadata": {},
   "outputs": [],
   "source": [
    "# Function to calculate the area of a rectangle with a default width of 5\n",
    "def calculate_area(length, width=5):\n",
    "    return length * width"
   ]
  },
  {
   "cell_type": "code",
   "execution_count": 70,
   "id": "7edd3fa3-56b1-49a4-9646-74728d1d1bf1",
   "metadata": {},
   "outputs": [
    {
     "name": "stdout",
     "output_type": "stream",
     "text": [
      "Area with both length and width: 70\n",
      "Area with only length: 50\n"
     ]
    }
   ],
   "source": [
    "print(\"Area with both length and width:\", calculate_area(10, 7))\n",
    "print(\"Area with only length:\", calculate_area(10))"
   ]
  },
  {
   "cell_type": "code",
   "execution_count": null,
   "id": "6f16cfce-b891-4e8b-9a23-d08dff55c9ba",
   "metadata": {},
   "outputs": [],
   "source": []
  }
 ],
 "metadata": {
  "kernelspec": {
   "display_name": "Python [conda env:base] *",
   "language": "python",
   "name": "conda-base-py"
  },
  "language_info": {
   "codemirror_mode": {
    "name": "ipython",
    "version": 3
   },
   "file_extension": ".py",
   "mimetype": "text/x-python",
   "name": "python",
   "nbconvert_exporter": "python",
   "pygments_lexer": "ipython3",
   "version": "3.11.5"
  }
 },
 "nbformat": 4,
 "nbformat_minor": 5
}

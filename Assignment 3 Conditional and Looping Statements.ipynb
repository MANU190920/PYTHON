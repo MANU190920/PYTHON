{
 "cells": [
  {
   "cell_type": "code",
   "execution_count": 6,
   "id": "ac8cb3b6",
   "metadata": {},
   "outputs": [
    {
     "name": "stdout",
     "output_type": "stream",
     "text": [
      "Enter the month: 3\n",
      "Month 3 is March\n"
     ]
    }
   ],
   "source": [
    "#1\n",
    "month_names = [\"January\", \"February\", \"March\", \"April\", \"May\", \"June\", \"July\", \"August\", \"September\", \"October\", \"November\", \"December\"]\n",
    "month_number = int(input(\"Enter the month: \"))\n",
    "if 1 <= month_number <= 12:\n",
    "    print(f\"Month {month_number} is {month_names[month_number - 1]}\")\n",
    "else:\n",
    "    print(\"Invalid month number\")"
   ]
  },
  {
   "cell_type": "code",
   "execution_count": 3,
   "id": "185d0a7e",
   "metadata": {},
   "outputs": [
    {
     "name": "stdout",
     "output_type": "stream",
     "text": [
      "Enter your age: 23\n",
      "Your ticket costs £6.00\n"
     ]
    }
   ],
   "source": [
    "#2\n",
    "age = int(input(\"Enter your age: \"))\n",
    "full_price = 6.0\n",
    "if age < 16:\n",
    "    price = full_price / 2\n",
    "elif age >= 60:\n",
    "    price = full_price / 3\n",
    "else:\n",
    "    price = full_price\n",
    "print(f\"Your ticket costs £{price:.2f}\")"
   ]
  },
  {
   "cell_type": "code",
   "execution_count": 12,
   "id": "db027f8b",
   "metadata": {},
   "outputs": [
    {
     "name": "stdout",
     "output_type": "stream",
     "text": [
      "Enter your weight in (kg): 71\n",
      "Enter your height in (m): 1.84\n",
      "Your BMI is: 20.971172\n",
      "You are in the \"Normal\" range.\n"
     ]
    }
   ],
   "source": [
    "#3\n",
    "weight = float(input(\"Enter your weight in (kg): \"))\n",
    "height = float(input(\"Enter your height in (m): \"))\n",
    "BMI = weight / (height ** 2)\n",
    "print(f\"Your BMI is: {BMI:2f}\")\n",
    "if BMI < 18.5:\n",
    "    status = \"Underweight\"\n",
    "elif 18.5 <= BMI <= 24.9:\n",
    "    status = \"Normal\"\n",
    "elif 25 <= BMI <= 29.9:\n",
    "    status = \"Overweight\"\n",
    "else:\n",
    "    status = \"Obese\"\n",
    "print(f\"You are in the \\\"{status}\\\" range.\")"
   ]
  },
  {
   "cell_type": "code",
   "execution_count": 1,
   "id": "3f03b005",
   "metadata": {},
   "outputs": [
    {
     "name": "stdout",
     "output_type": "stream",
     "text": [
      "Enter first number: 1\n",
      "Enter second number: 7\n",
      "Enter third number: 5\n",
      "The greatest number is: 7\n"
     ]
    }
   ],
   "source": [
    "#4 \n",
    "num1 = int(input(\"Enter first number: \"))\n",
    "num2 = int(input(\"Enter second number: \"))\n",
    "num3 = int(input(\"Enter third number: \"))\n",
    "greatest = max(num1, num2, num3)\n",
    "print(f\"The greatest number is: {greatest}\")"
   ]
  },
  {
   "cell_type": "code",
   "execution_count": 11,
   "id": "00e92e1b",
   "metadata": {},
   "outputs": [
    {
     "name": "stdout",
     "output_type": "stream",
     "text": [
      "Enter a number: 7\n",
      "The factorial of 7 is 5040\n"
     ]
    }
   ],
   "source": [
    "#5 \n",
    "number = int(input(\"Enter a number: \"))\n",
    "factorial = 1\n",
    "for i in range(1, number + 1):\n",
    "    factorial *= i\n",
    "print(f\"The factorial of {number} is {factorial}\")"
   ]
  },
  {
   "cell_type": "code",
   "execution_count": 13,
   "id": "5186d421",
   "metadata": {},
   "outputs": [
    {
     "name": "stdout",
     "output_type": "stream",
     "text": [
      "Enter a number to reverse: 27\n",
      "Reversed number is: 72\n"
     ]
    }
   ],
   "source": [
    "#6 \n",
    "number = int(input(\"Enter a number to reverse: \"))\n",
    "reverse = 0\n",
    "while number > 0:\n",
    "    digit = number % 10\n",
    "    reverse = reverse * 10 + digit\n",
    "    number //= 10\n",
    "print(f\"Reversed number is: {reverse}\")"
   ]
  },
  {
   "cell_type": "code",
   "execution_count": 18,
   "id": "f89c5523",
   "metadata": {},
   "outputs": [
    {
     "name": "stdout",
     "output_type": "stream",
     "text": [
      "Enter a number: 1\n",
      "Enter the limit: 3\n",
      "Multiples of 1 up to 3:\n",
      "1\n",
      "2\n",
      "3\n"
     ]
    }
   ],
   "source": [
    "#7\n",
    "number = int(input(\"Enter a number: \"))\n",
    "limit = int(input(\"Enter the limit: \"))\n",
    "print(f\"Multiples of {number} up to {limit}:\")\n",
    "for i in range(1, limit + 1):\n",
    "    if i % number == 0:\n",
    "        print(i)"
   ]
  },
  {
   "cell_type": "code",
   "execution_count": 2,
   "id": "623485a6",
   "metadata": {},
   "outputs": [
    {
     "name": "stdin",
     "output_type": "stream",
     "text": [
      ": hello there\n"
     ]
    },
    {
     "name": "stdout",
     "output_type": "stream",
     "text": [
      "hello there\n"
     ]
    },
    {
     "name": "stdin",
     "output_type": "stream",
     "text": [
      ": finished\n"
     ]
    },
    {
     "name": "stdout",
     "output_type": "stream",
     "text": [
      "finished\n"
     ]
    },
    {
     "name": "stdin",
     "output_type": "stream",
     "text": [
      ": Done\n"
     ]
    },
    {
     "name": "stdout",
     "output_type": "stream",
     "text": [
      "Done\n"
     ]
    }
   ],
   "source": [
    "#8 \n",
    "while True:\n",
    "    value = input(\":\")\n",
    "    if value.lower() == 'done':\n",
    "        print(\"Done\")\n",
    "        break\n",
    "    else:\n",
    "        print(value)"
   ]
  },
  {
   "cell_type": "code",
   "execution_count": 4,
   "id": "f23fc7fb-05be-43a7-b7cd-3cfcdebd94f7",
   "metadata": {},
   "outputs": [
    {
     "name": "stdout",
     "output_type": "stream",
     "text": [
      "1\n",
      "2\n",
      "Fizz\n",
      "4\n",
      "Buzz\n",
      "Fizz\n",
      "7\n",
      "8\n",
      "Fizz\n",
      "Buzz\n"
     ]
    }
   ],
   "source": [
    "#9 \n",
    "for i in range(1, 11):\n",
    "    if i % 3 == 0 and i % 5 == 0:\n",
    "        print(\"FizzBuzz\")\n",
    "    elif i % 3 == 0:\n",
    "        print(\"Fizz\")\n",
    "    elif i % 5 == 0:\n",
    "        print(\"Buzz\")\n",
    "    else:\n",
    "        print(i)"
   ]
  },
  {
   "cell_type": "code",
   "execution_count": 6,
   "id": "77881672-9816-4416-8208-5b15ae2a9625",
   "metadata": {},
   "outputs": [
    {
     "name": "stdout",
     "output_type": "stream",
     "text": [
      "5 4 3 2 1 \n",
      "4 3 2 1 \n",
      "3 2 1 \n",
      "2 1 \n",
      "1 \n"
     ]
    }
   ],
   "source": [
    "#10\n",
    "for i in range(5, 0, -1):\n",
    "    for j in range(i, 0, -1):\n",
    "        print(j, end=\" \")\n",
    "    print()"
   ]
  },
  {
   "cell_type": "code",
   "execution_count": null,
   "id": "71a6024f-d5f9-42f8-91e0-7d075ba6aa7f",
   "metadata": {},
   "outputs": [],
   "source": []
  }
 ],
 "metadata": {
  "kernelspec": {
   "display_name": "Python [conda env:base] *",
   "language": "python",
   "name": "conda-base-py"
  },
  "language_info": {
   "codemirror_mode": {
    "name": "ipython",
    "version": 3
   },
   "file_extension": ".py",
   "mimetype": "text/x-python",
   "name": "python",
   "nbconvert_exporter": "python",
   "pygments_lexer": "ipython3",
   "version": "3.11.5"
  }
 },
 "nbformat": 4,
 "nbformat_minor": 5
}

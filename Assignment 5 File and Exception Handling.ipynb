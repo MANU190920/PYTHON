{
 "cells": [
  {
   "cell_type": "code",
   "execution_count": 2,
   "id": "3386a47d-8582-4cb7-a8e0-e1d704ad7965",
   "metadata": {},
   "outputs": [],
   "source": [
    "import pandas as pd\n",
    "import numpy as np"
   ]
  },
  {
   "cell_type": "code",
   "execution_count": 8,
   "id": "8bd27f90-6696-49a7-b6c6-723eb580c249",
   "metadata": {},
   "outputs": [],
   "source": [
    "#1\n",
    "file_path = \"C:/Users/manue/Downloads/titanic_dataset.csv\"\n",
    "df = pd.read_csv(file_path)"
   ]
  },
  {
   "cell_type": "code",
   "execution_count": 10,
   "id": "65e4f0e4-ff47-480f-b864-f0a3f5de6328",
   "metadata": {},
   "outputs": [
    {
     "name": "stdout",
     "output_type": "stream",
     "text": [
      "Dataset preview:\n",
      "   PassengerId  Survived  Pclass  \\\n",
      "0            1         0       3   \n",
      "1            2         1       1   \n",
      "2            3         1       3   \n",
      "3            4         1       1   \n",
      "4            5         0       3   \n",
      "\n",
      "                                                Name     Sex   Age  SibSp  \\\n",
      "0                            Braund, Mr. Owen Harris    male  22.0      1   \n",
      "1  Cumings, Mrs. John Bradley (Florence Briggs Th...  female  38.0      1   \n",
      "2                             Heikkinen, Miss. Laina  female  26.0      0   \n",
      "3       Futrelle, Mrs. Jacques Heath (Lily May Peel)  female  35.0      1   \n",
      "4                           Allen, Mr. William Henry    male  35.0      0   \n",
      "\n",
      "   Parch            Ticket     Fare Cabin Embarked  \n",
      "0      0         A/5 21171   7.2500   NaN        S  \n",
      "1      0          PC 17599  71.2833   C85        C  \n",
      "2      0  STON/O2. 3101282   7.9250   NaN        S  \n",
      "3      0            113803  53.1000  C123        S  \n",
      "4      0            373450   8.0500   NaN        S  \n"
     ]
    }
   ],
   "source": [
    "print(\"Dataset preview:\")\n",
    "print(df.head())"
   ]
  },
  {
   "cell_type": "code",
   "execution_count": 12,
   "id": "8f76e339-8871-4096-a8c4-9fd664e5488f",
   "metadata": {},
   "outputs": [
    {
     "name": "stdout",
     "output_type": "stream",
     "text": [
      "File copied successfully to C:/Users/manue/Downloads/copied_titanic_dataset.csv.\n"
     ]
    }
   ],
   "source": [
    "#2\n",
    "destination_path = \"C:/Users/manue/Downloads/copied_titanic_dataset.csv\"\n",
    "df.to_csv(destination_path, index=False)\n",
    "print(f\"File copied successfully to {destination_path}.\")"
   ]
  },
  {
   "cell_type": "code",
   "execution_count": 23,
   "id": "9b2dca3e-f51c-4391-994a-8efaff77e79e",
   "metadata": {},
   "outputs": [
    {
     "name": "stdout",
     "output_type": "stream",
     "text": [
      "Total number of words in the dataset: 13698\n"
     ]
    }
   ],
   "source": [
    "#3\n",
    "word_count = df.astype(str).apply(lambda x: x.str.split().str.len()).sum().sum()\n",
    "print(f\"Total number of words in the dataset: {word_count}\")"
   ]
  },
  {
   "cell_type": "code",
   "execution_count": 29,
   "id": "16b34470-c359-40d5-8791-748daef302d0",
   "metadata": {},
   "outputs": [
    {
     "name": "stdin",
     "output_type": "stream",
     "text": [
      "Enter a number:  7\n"
     ]
    },
    {
     "name": "stdout",
     "output_type": "stream",
     "text": [
      "The integer value is: 7\n"
     ]
    }
   ],
   "source": [
    "#4\n",
    "try:\n",
    "    user_input = input(\"Enter a number: \")\n",
    "    number = int(user_input)\n",
    "    print(f\"The integer value is: {number}\")\n",
    "except ValueError:\n",
    "    print(\"Invalid input! Please enter a valid integer.\")"
   ]
  },
  {
   "cell_type": "code",
   "execution_count": 31,
   "id": "a7518e12-888a-481e-8b3a-da57325ee30f",
   "metadata": {},
   "outputs": [
    {
     "name": "stdin",
     "output_type": "stream",
     "text": [
      "Enter a number:  m\n"
     ]
    },
    {
     "name": "stdout",
     "output_type": "stream",
     "text": [
      "Invalid input! Please enter a valid integer.\n"
     ]
    }
   ],
   "source": [
    "try:\n",
    "    user_input = input(\"Enter a number: \")\n",
    "    number = int(user_input)\n",
    "    print(f\"The integer value is: {number}\")\n",
    "except ValueError:\n",
    "    print(\"Invalid input! Please enter a valid integer.\")"
   ]
  },
  {
   "cell_type": "code",
   "execution_count": 35,
   "id": "d2325cdb-c10d-44ae-8171-8fe74e27c53a",
   "metadata": {},
   "outputs": [
    {
     "name": "stdout",
     "output_type": "stream",
     "text": [
      "All ages are non-negative.\n"
     ]
    }
   ],
   "source": [
    "#5\n",
    "try:\n",
    "    age_list = df['Age'].dropna().tolist() \n",
    "    for age in age_list:\n",
    "        if age < 0:\n",
    "            raise ValueError(\"Negative age found!\")\n",
    "    \n",
    "    print(\"All ages are non-negative.\")\n",
    "except ValueError as e:\n",
    "    print(e)"
   ]
  },
  {
   "cell_type": "code",
   "execution_count": 39,
   "id": "48ae3bfe-9a3c-4757-8937-e8af180ca725",
   "metadata": {},
   "outputs": [
    {
     "name": "stdout",
     "output_type": "stream",
     "text": [
      "The average age is: 29.69911764705882\n",
      "Program has finished running.\n"
     ]
    }
   ],
   "source": [
    "#6\n",
    "try:\n",
    "    # Calculate the average age\n",
    "    avg_age = df['Age'].mean()\n",
    "    print(f\"The average age is: {avg_age}\")\n",
    "except ZeroDivisionError:\n",
    "    print(\"Cannot calculate average, list is empty.\")\n",
    "except ValueError:\n",
    "    print(\"Invalid input! Please enter valid integers.\")\n",
    "finally:\n",
    "    print(\"Program has finished running.\")"
   ]
  },
  {
   "cell_type": "code",
   "execution_count": 41,
   "id": "aa3e9ffc-dfa5-4fe4-9210-6f1c16ba1718",
   "metadata": {},
   "outputs": [
    {
     "name": "stdout",
     "output_type": "stream",
     "text": [
      "Content written to C:/Users/manue/Downloads/welcome_message.txt successfully.\n",
      "File write operation completed successfully.\n"
     ]
    }
   ],
   "source": [
    "#7\n",
    "new_filename = \"C:/Users/manue/Downloads/welcome_message.txt\"\n",
    "content = \"Welcome to the Titanic dataset analysis!\"\n",
    "\n",
    "try:\n",
    "    with open(new_filename, 'w') as file:\n",
    "        file.write(content)\n",
    "    print(f\"Content written to {new_filename} successfully.\")\n",
    "except Exception as e:\n",
    "    print(f\"An error occurred: {e}\")\n",
    "else:\n",
    "    print(\"File write operation completed successfully.\")"
   ]
  },
  {
   "cell_type": "code",
   "execution_count": null,
   "id": "db664bbe-e963-4c97-8bd6-59ee977fd0e0",
   "metadata": {},
   "outputs": [],
   "source": []
  }
 ],
 "metadata": {
  "kernelspec": {
   "display_name": "Python [conda env:base] *",
   "language": "python",
   "name": "conda-base-py"
  },
  "language_info": {
   "codemirror_mode": {
    "name": "ipython",
    "version": 3
   },
   "file_extension": ".py",
   "mimetype": "text/x-python",
   "name": "python",
   "nbconvert_exporter": "python",
   "pygments_lexer": "ipython3",
   "version": "3.11.5"
  }
 },
 "nbformat": 4,
 "nbformat_minor": 5
}

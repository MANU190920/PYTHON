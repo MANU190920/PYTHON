{
 "cells": [
  {
   "cell_type": "code",
   "execution_count": 2,
   "id": "7e846c2d",
   "metadata": {},
   "outputs": [
    {
     "name": "stdout",
     "output_type": "stream",
     "text": [
      "Name : MANU EMMANUEAL\n",
      "Student Number : ENTRI007\n",
      "Email: manu@gmail.com\n"
     ]
    }
   ],
   "source": [
    "#1\n",
    "print(\"Name : MANU EMMANUEAL\")\n",
    "print(\"Student Number : ENTRI007\")\n",
    "print(\"Email: manu@gmail.com\")"
   ]
  },
  {
   "cell_type": "code",
   "execution_count": 4,
   "id": "e9ade176",
   "metadata": {},
   "outputs": [
    {
     "name": "stdout",
     "output_type": "stream",
     "text": [
      "Manu Emmanueal\n",
      "ENTRI007\n",
      "manu@gmail.com\n"
     ]
    }
   ],
   "source": [
    "#2\n",
    "print(\"Manu Emmanueal\\nENTRI007\\nmanu@gmail.com\")"
   ]
  },
  {
   "cell_type": "code",
   "execution_count": 5,
   "id": "de3d2a8b",
   "metadata": {},
   "outputs": [],
   "source": [
    "#3\n",
    "x = 14\n",
    "y = 7"
   ]
  },
  {
   "cell_type": "code",
   "execution_count": 6,
   "id": "1b382ab2",
   "metadata": {},
   "outputs": [
    {
     "data": {
      "text/plain": [
       "21"
      ]
     },
     "execution_count": 6,
     "metadata": {},
     "output_type": "execute_result"
    }
   ],
   "source": [
    "x+y"
   ]
  },
  {
   "cell_type": "code",
   "execution_count": 7,
   "id": "750a14d5",
   "metadata": {},
   "outputs": [
    {
     "data": {
      "text/plain": [
       "7"
      ]
     },
     "execution_count": 7,
     "metadata": {},
     "output_type": "execute_result"
    }
   ],
   "source": [
    "x-y"
   ]
  },
  {
   "cell_type": "code",
   "execution_count": 8,
   "id": "37b4cf20",
   "metadata": {},
   "outputs": [
    {
     "data": {
      "text/plain": [
       "98"
      ]
     },
     "execution_count": 8,
     "metadata": {},
     "output_type": "execute_result"
    }
   ],
   "source": [
    "x*y"
   ]
  },
  {
   "cell_type": "code",
   "execution_count": 9,
   "id": "2baaa0c3",
   "metadata": {},
   "outputs": [
    {
     "data": {
      "text/plain": [
       "2.0"
      ]
     },
     "execution_count": 9,
     "metadata": {},
     "output_type": "execute_result"
    }
   ],
   "source": [
    "x/y"
   ]
  },
  {
   "cell_type": "code",
   "execution_count": 10,
   "id": "e3e5b86c",
   "metadata": {},
   "outputs": [
    {
     "data": {
      "text/plain": [
       "0"
      ]
     },
     "execution_count": 10,
     "metadata": {},
     "output_type": "execute_result"
    }
   ],
   "source": []
  },
  {
   "cell_type": "code",
   "execution_count": 11,
   "id": "10512370",
   "metadata": {},
   "outputs": [
    {
     "name": "stdout",
     "output_type": "stream",
     "text": [
      "1\n",
      "2\n",
      "3\n",
      "4\n",
      "5\n"
     ]
    }
   ],
   "source": [
    "#4\n",
    "for a in range(1,6):\n",
    "    print(a)"
   ]
  },
  {
   "cell_type": "code",
   "execution_count": 14,
   "id": "326c8f54",
   "metadata": {},
   "outputs": [
    {
     "name": "stdout",
     "output_type": "stream",
     "text": [
      "\"SDK\" stands for \"Software Development Kit\", whereas \"IDE\" stands for \"Integrated Development Environment\".\n"
     ]
    }
   ],
   "source": [
    "#5\n",
    "print(\"\\\"SDK\\\" stands for \\\"Software Development Kit\\\", whereas \\\"IDE\\\" stands for \\\"Integrated Development Environment\\\".\")"
   ]
  },
  {
   "cell_type": "code",
   "execution_count": 15,
   "id": "d7ab6468",
   "metadata": {},
   "outputs": [
    {
     "name": "stdout",
     "output_type": "stream",
     "text": [
      "python is an \"awesome\" language.\n",
      "python\n",
      "\t2023\n",
      "I'm from Entri.\b\n",
      "5\n",
      "e\n",
      "Entri\n",
      "2023\n",
      "Entri\b2023\n",
      "Entri*2023\b\b\b\b"
     ]
    }
   ],
   "source": [
    "#6\n",
    "print(\"python is an \\\"awesome\\\" language.\")\n",
    "print(\"python\\n\\t2023\")\n",
    "print('I\\'m from Entri.\\b')\n",
    "print(\"\\65\")\n",
    "print(\"\\x65\")\n",
    "print(\"Entri\", \"2023\", sep=\"\\n\")\n",
    "print(\"Entri\", \"2023\", sep=\"\\b\")\n",
    "print(\"Entri\", \"2023\", sep=\"*\", end=\"\\b\\b\\b\\b\")\n"
   ]
  },
  {
   "cell_type": "code",
   "execution_count": 1,
   "id": "0a9b51fc",
   "metadata": {},
   "outputs": [],
   "source": [
    "#7\n",
    "num = 23\n",
    "textnum = \"57\"\n",
    "decimal = 98.3"
   ]
  },
  {
   "cell_type": "code",
   "execution_count": 7,
   "id": "f558400c",
   "metadata": {},
   "outputs": [
    {
     "name": "stdout",
     "output_type": "stream",
     "text": [
      "<class 'int'>\n",
      "<class 'str'>\n",
      "<class 'float'>\n"
     ]
    }
   ],
   "source": [
    "print(type(num))\n",
    "print(type(textnum))\n",
    "print(type(decimal))"
   ]
  },
  {
   "cell_type": "code",
   "execution_count": 4,
   "id": "1db79900",
   "metadata": {},
   "outputs": [],
   "source": [
    "#8\n",
    "days_in_year = 365\n",
    "hours_in_day = 24\n",
    "minutes_in_hour = 60"
   ]
  },
  {
   "cell_type": "code",
   "execution_count": 6,
   "id": "f8200bd4",
   "metadata": {},
   "outputs": [
    {
     "name": "stdout",
     "output_type": "stream",
     "text": [
      "Total number of minutes in a year: 525600\n"
     ]
    }
   ],
   "source": [
    "total_minutes = days_in_year * hours_in_day * minutes_in_hour\n",
    "print(f\"Total number of minutes in a year: {total_minutes}\")"
   ]
  },
  {
   "cell_type": "code",
   "execution_count": 1,
   "id": "0a8243d6",
   "metadata": {},
   "outputs": [
    {
     "name": "stdout",
     "output_type": "stream",
     "text": [
      "Please enter your name: Manu Emmanueal\n",
      "Hi Manu Emmanueal, welcome to Python programming :)\n"
     ]
    }
   ],
   "source": [
    "#9\n",
    "name = input(\"Please enter your name: \")\n",
    "print(f\"Hi {name}, welcome to Python programming :)\")"
   ]
  },
  {
   "cell_type": "code",
   "execution_count": 2,
   "id": "bc5b8807",
   "metadata": {},
   "outputs": [
    {
     "name": "stdout",
     "output_type": "stream",
     "text": [
      "Please enter amount in pounds: 100\n",
      "£100.0 are $135.00\n"
     ]
    }
   ],
   "source": [
    "#10\n",
    "amount_in_pounds = float(input(\"Please enter amount in pounds: \"))\n",
    "exchange_rate = 1.35\n",
    "amount_in_dollars = amount_in_pounds * exchange_rate\n",
    "print(f\"£{amount_in_pounds} are ${amount_in_dollars:.2f}\")\n"
   ]
  },
  {
   "cell_type": "code",
   "execution_count": null,
   "id": "e9e16f5d",
   "metadata": {},
   "outputs": [],
   "source": []
  }
 ],
 "metadata": {
  "kernelspec": {
   "display_name": "Python 3 (ipykernel)",
   "language": "python",
   "name": "python3"
  },
  "language_info": {
   "codemirror_mode": {
    "name": "ipython",
    "version": 3
   },
   "file_extension": ".py",
   "mimetype": "text/x-python",
   "name": "python",
   "nbconvert_exporter": "python",
   "pygments_lexer": "ipython3",
   "version": "3.11.5"
  }
 },
 "nbformat": 4,
 "nbformat_minor": 5
}

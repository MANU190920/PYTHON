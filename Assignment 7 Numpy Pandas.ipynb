{
 "cells": [
  {
   "cell_type": "code",
   "execution_count": 2,
   "id": "aeb8c873-a6e0-4195-832f-66d10fe491af",
   "metadata": {},
   "outputs": [],
   "source": [
    "import numpy as np\n",
    "import pandas as pd"
   ]
  },
  {
   "cell_type": "markdown",
   "id": "4f16ccb3-f30a-4f29-971f-90a1ccac00d1",
   "metadata": {},
   "source": [
    "#### Create a numpy array containing the numbers from 1 to 10, and then reshape it to a 2x5 matrix"
   ]
  },
  {
   "cell_type": "code",
   "execution_count": 8,
   "id": "2ff46c09-e609-4226-95f7-b9b4bafe7700",
   "metadata": {},
   "outputs": [
    {
     "data": {
      "text/plain": [
       "array([ 1,  2,  3,  4,  5,  6,  7,  8,  9, 10])"
      ]
     },
     "execution_count": 8,
     "metadata": {},
     "output_type": "execute_result"
    }
   ],
   "source": [
    "array = np.arange(1,11)\n",
    "array"
   ]
  },
  {
   "cell_type": "code",
   "execution_count": 19,
   "id": "0c946e23-96bb-4d53-ad8c-f612a99ccbd8",
   "metadata": {},
   "outputs": [
    {
     "data": {
      "text/plain": [
       "array([[ 1,  2,  3,  4,  5],\n",
       "       [ 6,  7,  8,  9, 10]])"
      ]
     },
     "execution_count": 19,
     "metadata": {},
     "output_type": "execute_result"
    }
   ],
   "source": [
    "array = np.arange(1,11).reshape(2,5)\n",
    "array"
   ]
  },
  {
   "cell_type": "markdown",
   "id": "10a1bd8d-5fd0-40fc-91b3-d6d2e044a201",
   "metadata": {},
   "source": [
    "#### Create a numpy array containing the numbers from 1 to 20, and then extract the elements between the 5th and 15th index"
   ]
  },
  {
   "cell_type": "code",
   "execution_count": 30,
   "id": "46a11ea5-3945-4319-a83f-e9b57b06583f",
   "metadata": {},
   "outputs": [
    {
     "data": {
      "text/plain": [
       "array([ 1,  2,  3,  4,  5,  6,  7,  8,  9, 10, 11, 12, 13, 14, 15, 16, 17,\n",
       "       18, 19, 20])"
      ]
     },
     "execution_count": 30,
     "metadata": {},
     "output_type": "execute_result"
    }
   ],
   "source": [
    "array_1 = np.arange(1,21)\n",
    "array_1"
   ]
  },
  {
   "cell_type": "code",
   "execution_count": 34,
   "id": "12ab5678-0958-4bbe-b73f-59c55a87bc38",
   "metadata": {},
   "outputs": [
    {
     "data": {
      "text/plain": [
       "array([ 6,  7,  8,  9, 10, 11, 12, 13, 14, 15, 16])"
      ]
     },
     "execution_count": 34,
     "metadata": {},
     "output_type": "execute_result"
    }
   ],
   "source": [
    "extracted_elements = array_1[5:16]\n",
    "extracted_elements"
   ]
  },
  {
   "cell_type": "markdown",
   "id": "f7e7b9f5-3d4f-4978-8f14-43dc4e819bda",
   "metadata": {},
   "source": [
    "#### Create a Pandas series with the following data: {'apples': 3, 'bananas': 2, 'oranges': 1}. Then, add a new item to the series with the key 'pears' and the value 4."
   ]
  },
  {
   "cell_type": "code",
   "execution_count": 37,
   "id": "d80eec69-6c1f-4870-992c-70a2ddd98078",
   "metadata": {},
   "outputs": [
    {
     "data": {
      "text/plain": [
       "apples     3\n",
       "bananas    2\n",
       "oranges    1\n",
       "dtype: int64"
      ]
     },
     "execution_count": 37,
     "metadata": {},
     "output_type": "execute_result"
    }
   ],
   "source": [
    "series = pd.Series({'apples': 3, 'bananas': 2, 'oranges': 1})\n",
    "series"
   ]
  },
  {
   "cell_type": "code",
   "execution_count": 41,
   "id": "3ea329a6-2dee-41b2-b4d6-bfae6f37cbfe",
   "metadata": {},
   "outputs": [
    {
     "data": {
      "text/plain": [
       "apples     3\n",
       "bananas    2\n",
       "oranges    1\n",
       "pears      4\n",
       "dtype: int64"
      ]
     },
     "execution_count": 41,
     "metadata": {},
     "output_type": "execute_result"
    }
   ],
   "source": [
    "series['pears'] = 4\n",
    "series"
   ]
  },
  {
   "cell_type": "markdown",
   "id": "ec8986c3-ccbb-4648-8727-d971092dec7f",
   "metadata": {},
   "source": [
    "#### Create a dataframe with the following columns: name, age, and gender. The dataframe should have 10 rows of data"
   ]
  },
  {
   "cell_type": "code",
   "execution_count": 44,
   "id": "bdddcafc-a2ac-4b9e-aa77-bfb49caabbd9",
   "metadata": {},
   "outputs": [],
   "source": [
    "names = [\"Aleena\", \"Bhaskar\", \"Manu\", \"Dohni\", \"Smrithi\", \"Enzo\", \"Anu\", \"Gayathri\", \"Dileep\", \"Rohit\"]\n",
    "ages = [25, 32, 24, 43, 22, 35, 28, 27, 45, 30]\n",
    "genders = [\"F\", \"M\", \"M\", \"M\", \"F\", \"M\", \"F\", \"F\", \"M\", \"M\"]\n",
    "df = pd.DataFrame({'name': names, 'age': ages, 'gender': genders})"
   ]
  },
  {
   "cell_type": "code",
   "execution_count": 46,
   "id": "94f0c264-9e6e-47e7-ae1b-b0059f3404a2",
   "metadata": {},
   "outputs": [
    {
     "data": {
      "text/html": [
       "<div>\n",
       "<style scoped>\n",
       "    .dataframe tbody tr th:only-of-type {\n",
       "        vertical-align: middle;\n",
       "    }\n",
       "\n",
       "    .dataframe tbody tr th {\n",
       "        vertical-align: top;\n",
       "    }\n",
       "\n",
       "    .dataframe thead th {\n",
       "        text-align: right;\n",
       "    }\n",
       "</style>\n",
       "<table border=\"1\" class=\"dataframe\">\n",
       "  <thead>\n",
       "    <tr style=\"text-align: right;\">\n",
       "      <th></th>\n",
       "      <th>name</th>\n",
       "      <th>age</th>\n",
       "      <th>gender</th>\n",
       "    </tr>\n",
       "  </thead>\n",
       "  <tbody>\n",
       "    <tr>\n",
       "      <th>0</th>\n",
       "      <td>Aleena</td>\n",
       "      <td>25</td>\n",
       "      <td>F</td>\n",
       "    </tr>\n",
       "    <tr>\n",
       "      <th>1</th>\n",
       "      <td>Bhaskar</td>\n",
       "      <td>32</td>\n",
       "      <td>M</td>\n",
       "    </tr>\n",
       "    <tr>\n",
       "      <th>2</th>\n",
       "      <td>Manu</td>\n",
       "      <td>24</td>\n",
       "      <td>M</td>\n",
       "    </tr>\n",
       "    <tr>\n",
       "      <th>3</th>\n",
       "      <td>Dohni</td>\n",
       "      <td>43</td>\n",
       "      <td>M</td>\n",
       "    </tr>\n",
       "    <tr>\n",
       "      <th>4</th>\n",
       "      <td>Smrithi</td>\n",
       "      <td>22</td>\n",
       "      <td>F</td>\n",
       "    </tr>\n",
       "    <tr>\n",
       "      <th>5</th>\n",
       "      <td>Enzo</td>\n",
       "      <td>35</td>\n",
       "      <td>M</td>\n",
       "    </tr>\n",
       "    <tr>\n",
       "      <th>6</th>\n",
       "      <td>Anu</td>\n",
       "      <td>28</td>\n",
       "      <td>F</td>\n",
       "    </tr>\n",
       "    <tr>\n",
       "      <th>7</th>\n",
       "      <td>Gayathri</td>\n",
       "      <td>27</td>\n",
       "      <td>F</td>\n",
       "    </tr>\n",
       "    <tr>\n",
       "      <th>8</th>\n",
       "      <td>Dileep</td>\n",
       "      <td>45</td>\n",
       "      <td>M</td>\n",
       "    </tr>\n",
       "    <tr>\n",
       "      <th>9</th>\n",
       "      <td>Rohit</td>\n",
       "      <td>30</td>\n",
       "      <td>M</td>\n",
       "    </tr>\n",
       "  </tbody>\n",
       "</table>\n",
       "</div>"
      ],
      "text/plain": [
       "       name  age gender\n",
       "0    Aleena   25      F\n",
       "1   Bhaskar   32      M\n",
       "2      Manu   24      M\n",
       "3     Dohni   43      M\n",
       "4   Smrithi   22      F\n",
       "5      Enzo   35      M\n",
       "6       Anu   28      F\n",
       "7  Gayathri   27      F\n",
       "8    Dileep   45      M\n",
       "9     Rohit   30      M"
      ]
     },
     "execution_count": 46,
     "metadata": {},
     "output_type": "execute_result"
    }
   ],
   "source": [
    "df"
   ]
  },
  {
   "cell_type": "markdown",
   "id": "777bcfe8-a223-4817-9b8c-32d6b888b050",
   "metadata": {},
   "source": [
    "#### Add a new column to the data frame created in question 1, called occupation. The values for this column should be Programmer, Manager, and Analyst, corresponding to the rows in the dataframe."
   ]
  },
  {
   "cell_type": "code",
   "execution_count": 49,
   "id": "daa5443f-3e3b-4f6d-8cb7-d18f8090d05d",
   "metadata": {},
   "outputs": [],
   "source": [
    "occupations = [\"Programmer\", \"Manager\", \"Analyst\", \"Programmer\", \"Manager\", \"Analyst\", \"Programmer\", \"Manager\", \"Analyst\", \"Programmer\"]\n",
    "df['occupation'] = occupations"
   ]
  },
  {
   "cell_type": "code",
   "execution_count": 51,
   "id": "5fa7d460-7c06-4616-9055-19d68a9a3e56",
   "metadata": {},
   "outputs": [
    {
     "data": {
      "text/html": [
       "<div>\n",
       "<style scoped>\n",
       "    .dataframe tbody tr th:only-of-type {\n",
       "        vertical-align: middle;\n",
       "    }\n",
       "\n",
       "    .dataframe tbody tr th {\n",
       "        vertical-align: top;\n",
       "    }\n",
       "\n",
       "    .dataframe thead th {\n",
       "        text-align: right;\n",
       "    }\n",
       "</style>\n",
       "<table border=\"1\" class=\"dataframe\">\n",
       "  <thead>\n",
       "    <tr style=\"text-align: right;\">\n",
       "      <th></th>\n",
       "      <th>name</th>\n",
       "      <th>age</th>\n",
       "      <th>gender</th>\n",
       "      <th>occupation</th>\n",
       "    </tr>\n",
       "  </thead>\n",
       "  <tbody>\n",
       "    <tr>\n",
       "      <th>0</th>\n",
       "      <td>Aleena</td>\n",
       "      <td>25</td>\n",
       "      <td>F</td>\n",
       "      <td>Programmer</td>\n",
       "    </tr>\n",
       "    <tr>\n",
       "      <th>1</th>\n",
       "      <td>Bhaskar</td>\n",
       "      <td>32</td>\n",
       "      <td>M</td>\n",
       "      <td>Manager</td>\n",
       "    </tr>\n",
       "    <tr>\n",
       "      <th>2</th>\n",
       "      <td>Manu</td>\n",
       "      <td>24</td>\n",
       "      <td>M</td>\n",
       "      <td>Analyst</td>\n",
       "    </tr>\n",
       "    <tr>\n",
       "      <th>3</th>\n",
       "      <td>Dohni</td>\n",
       "      <td>43</td>\n",
       "      <td>M</td>\n",
       "      <td>Programmer</td>\n",
       "    </tr>\n",
       "    <tr>\n",
       "      <th>4</th>\n",
       "      <td>Smrithi</td>\n",
       "      <td>22</td>\n",
       "      <td>F</td>\n",
       "      <td>Manager</td>\n",
       "    </tr>\n",
       "    <tr>\n",
       "      <th>5</th>\n",
       "      <td>Enzo</td>\n",
       "      <td>35</td>\n",
       "      <td>M</td>\n",
       "      <td>Analyst</td>\n",
       "    </tr>\n",
       "    <tr>\n",
       "      <th>6</th>\n",
       "      <td>Anu</td>\n",
       "      <td>28</td>\n",
       "      <td>F</td>\n",
       "      <td>Programmer</td>\n",
       "    </tr>\n",
       "    <tr>\n",
       "      <th>7</th>\n",
       "      <td>Gayathri</td>\n",
       "      <td>27</td>\n",
       "      <td>F</td>\n",
       "      <td>Manager</td>\n",
       "    </tr>\n",
       "    <tr>\n",
       "      <th>8</th>\n",
       "      <td>Dileep</td>\n",
       "      <td>45</td>\n",
       "      <td>M</td>\n",
       "      <td>Analyst</td>\n",
       "    </tr>\n",
       "    <tr>\n",
       "      <th>9</th>\n",
       "      <td>Rohit</td>\n",
       "      <td>30</td>\n",
       "      <td>M</td>\n",
       "      <td>Programmer</td>\n",
       "    </tr>\n",
       "  </tbody>\n",
       "</table>\n",
       "</div>"
      ],
      "text/plain": [
       "       name  age gender  occupation\n",
       "0    Aleena   25      F  Programmer\n",
       "1   Bhaskar   32      M     Manager\n",
       "2      Manu   24      M     Analyst\n",
       "3     Dohni   43      M  Programmer\n",
       "4   Smrithi   22      F     Manager\n",
       "5      Enzo   35      M     Analyst\n",
       "6       Anu   28      F  Programmer\n",
       "7  Gayathri   27      F     Manager\n",
       "8    Dileep   45      M     Analyst\n",
       "9     Rohit   30      M  Programmer"
      ]
     },
     "execution_count": 51,
     "metadata": {},
     "output_type": "execute_result"
    }
   ],
   "source": [
    "df"
   ]
  },
  {
   "cell_type": "markdown",
   "id": "b70892c8-9926-47cb-a1a0-e6d26ebbca43",
   "metadata": {},
   "source": [
    "#### Select the rows of the dataframe where the age is greater than or equal to 30."
   ]
  },
  {
   "cell_type": "code",
   "execution_count": 54,
   "id": "73c7459f-4a81-4f6f-a21e-21ef266f55bd",
   "metadata": {},
   "outputs": [],
   "source": [
    "age_greater_or_equal_to_30 = df[df['age'] >= 30]"
   ]
  },
  {
   "cell_type": "code",
   "execution_count": 58,
   "id": "d2de5cad-86d2-49c6-85ba-3c5a1e342a6f",
   "metadata": {},
   "outputs": [
    {
     "data": {
      "text/html": [
       "<div>\n",
       "<style scoped>\n",
       "    .dataframe tbody tr th:only-of-type {\n",
       "        vertical-align: middle;\n",
       "    }\n",
       "\n",
       "    .dataframe tbody tr th {\n",
       "        vertical-align: top;\n",
       "    }\n",
       "\n",
       "    .dataframe thead th {\n",
       "        text-align: right;\n",
       "    }\n",
       "</style>\n",
       "<table border=\"1\" class=\"dataframe\">\n",
       "  <thead>\n",
       "    <tr style=\"text-align: right;\">\n",
       "      <th></th>\n",
       "      <th>name</th>\n",
       "      <th>age</th>\n",
       "      <th>gender</th>\n",
       "      <th>occupation</th>\n",
       "    </tr>\n",
       "  </thead>\n",
       "  <tbody>\n",
       "    <tr>\n",
       "      <th>1</th>\n",
       "      <td>Bhaskar</td>\n",
       "      <td>32</td>\n",
       "      <td>M</td>\n",
       "      <td>Manager</td>\n",
       "    </tr>\n",
       "    <tr>\n",
       "      <th>3</th>\n",
       "      <td>Dohni</td>\n",
       "      <td>43</td>\n",
       "      <td>M</td>\n",
       "      <td>Programmer</td>\n",
       "    </tr>\n",
       "    <tr>\n",
       "      <th>5</th>\n",
       "      <td>Enzo</td>\n",
       "      <td>35</td>\n",
       "      <td>M</td>\n",
       "      <td>Analyst</td>\n",
       "    </tr>\n",
       "    <tr>\n",
       "      <th>8</th>\n",
       "      <td>Dileep</td>\n",
       "      <td>45</td>\n",
       "      <td>M</td>\n",
       "      <td>Analyst</td>\n",
       "    </tr>\n",
       "    <tr>\n",
       "      <th>9</th>\n",
       "      <td>Rohit</td>\n",
       "      <td>30</td>\n",
       "      <td>M</td>\n",
       "      <td>Programmer</td>\n",
       "    </tr>\n",
       "  </tbody>\n",
       "</table>\n",
       "</div>"
      ],
      "text/plain": [
       "      name  age gender  occupation\n",
       "1  Bhaskar   32      M     Manager\n",
       "3    Dohni   43      M  Programmer\n",
       "5     Enzo   35      M     Analyst\n",
       "8   Dileep   45      M     Analyst\n",
       "9    Rohit   30      M  Programmer"
      ]
     },
     "execution_count": 58,
     "metadata": {},
     "output_type": "execute_result"
    }
   ],
   "source": [
    "age_greater_or_equal_to_30"
   ]
  },
  {
   "cell_type": "markdown",
   "id": "273a726a-06d2-48eb-9c48-caaea1e1dfff",
   "metadata": {},
   "source": [
    "#### Convert this dataframe to a csv file and read that csv file, finally display the contents."
   ]
  },
  {
   "cell_type": "code",
   "execution_count": 62,
   "id": "511978da-521c-4519-8143-c5cc534b3eb1",
   "metadata": {},
   "outputs": [],
   "source": [
    "df.to_csv(\"data.csv\", index=False)"
   ]
  },
  {
   "cell_type": "code",
   "execution_count": 68,
   "id": "6b74ca7b-d63a-4d56-bb5e-1cd554f44e21",
   "metadata": {},
   "outputs": [
    {
     "name": "stdout",
     "output_type": "stream",
     "text": [
      "Exercise 7:\n",
      "        name  age gender  occupation\n",
      "0    Aleena   25      F  Programmer\n",
      "1   Bhaskar   32      M     Manager\n",
      "2      Manu   24      M     Analyst\n",
      "3     Dohni   43      M  Programmer\n",
      "4   Smrithi   22      F     Manager\n",
      "5      Enzo   35      M     Analyst\n",
      "6       Anu   28      F  Programmer\n",
      "7  Gayathri   27      F     Manager\n",
      "8    Dileep   45      M     Analyst\n",
      "9     Rohit   30      M  Programmer\n"
     ]
    }
   ],
   "source": [
    "df_read = pd.read_csv(\"data.csv\")\n",
    "print(\"Exercise 7:\\n\", df_read)"
   ]
  },
  {
   "cell_type": "code",
   "execution_count": null,
   "id": "f590e2a4-a277-4c17-9cc9-cffa541165ee",
   "metadata": {},
   "outputs": [],
   "source": []
  }
 ],
 "metadata": {
  "kernelspec": {
   "display_name": "Python [conda env:base] *",
   "language": "python",
   "name": "conda-base-py"
  },
  "language_info": {
   "codemirror_mode": {
    "name": "ipython",
    "version": 3
   },
   "file_extension": ".py",
   "mimetype": "text/x-python",
   "name": "python",
   "nbconvert_exporter": "python",
   "pygments_lexer": "ipython3",
   "version": "3.11.5"
  }
 },
 "nbformat": 4,
 "nbformat_minor": 5
}
